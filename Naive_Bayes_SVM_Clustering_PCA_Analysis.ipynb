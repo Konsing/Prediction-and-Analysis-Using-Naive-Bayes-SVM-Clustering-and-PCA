{
 "cells": [
  {
   "cell_type": "markdown",
   "metadata": {},
   "source": [
    "# Homework 4\n",
    "In this assignment, we will building a Naïve Bayes classifier and a SVM model for the productivity satisfaction of [the given dataset](https://archive.ics.uci.edu/ml/datasets/Productivity+Prediction+of+Garment+Employees), the productivity of garment employees.\n",
    "\n",
    "## For Questions 1-3:\n",
    "### Background \n",
    "The Garment Industry is one of the key examples of the industrial globalization of this modern era. It is a highly labour-intensive industry with lots of manual processes. Satisfying the huge global demand for garment products is mostly dependent on the production and delivery performance of the employees in the garment manufacturing companies. So, it is highly desirable among the decision makers in the garments industry to track, analyse and predict the productivity performance of the working teams in their factories. \n",
    "\n",
    "### Dataset Attribute Information\n",
    "\n",
    "1. **date**: Date in MM-DD-YYYY\n",
    "2. **day**: Day of the Week\n",
    "3. **quarter** : A portion of the month. A month was divided into four quarters\n",
    "4. **department** : Associated department with the instance\n",
    "5. **team_no** : Associated team number with the instance\n",
    "6. **no_of_workers** : Number of workers in each team\n",
    "7. **no_of_style_change** : Number of changes in the style of a particular product\n",
    "8. **targeted_productivity** : Targeted productivity set by the Authority for each team for each day.\n",
    "9. **smv** : Standard Minute Value, it is the allocated time for a task\n",
    "10. **wip** : Work in progress. Includes the number of unfinished items for products\n",
    "11. **over_time** : Represents the amount of overtime by each team in minutes\n",
    "12. **incentive** : Represents the amount of financial incentive (in BDT) that enables or motivates a particular course of action.\n",
    "13. **idle_time** : The amount of time when the production was interrupted due to several reasons\n",
    "14. **idle_men** : The number of workers who were idle due to production interruption\n",
    "15. **actual_productivity** : The actual % of productivity that was delivered by the workers. It ranges from 0-1.\n",
    "\n",
    "#### Libraries that can be used: numpy, scipy, pandas, scikit-learn, cvxpy, imbalanced-learn\n",
    "Any libraries used in the discussion materials are also allowed.\n",
    "\n",
    "#### Other Notes\n",
    "\n",
    " - Don't worry about not being able to achieve high accuracy, it is neither the goal nor the grading standard of this assignment. <br >\n",
    " - If not specified, you are not required to do hyperparameter tuning, but feel free to do so if you'd like.\n",
    "\n",
    "#### Trouble Shooting\n",
    "In case you have trouble installing and using imbalanced-learn(imblearn) <br >\n",
    "Run the below code cell, then go to the selection bar at top: Kernel > Restart. <br >\n",
    "Then try `import imblearn` to see if things work. \n",
    "\n",
    "\n",
    "we are also working on a list of 1200 bitstrings, where each of them contains 16 bits. <br >\n",
    "We will apply K-means Clustering, and PCA to this dataset for Q4-5. <br >\n",
    "\n",
    "### Background and Data Information Q4-5\n",
    "For a bitstring $S$ in this dataset, we describe $S = \\{s_{15}, s_{14}, s_{13}, s_{12}, \\ldots, s_{0} \\}$, where $s_{15}$ is often known as the most significant bit (MSB) and $s_0$ as the least significant bit (LSB). <br >\n",
    "\n",
    "There are duplicated bitstrings in this dataset, but they will not affect this assignment. Don't worry about them. <br >\n",
    "\n",
    "## Equivalence Relation\n",
    "\n",
    "**This is an important concept to Exercise 1.**\n",
    "\n",
    "Let's say if we have two bitstrings, $A = \\{a_{15}, a_{14}, a_{13}, \\ldots, a_{0} \\}$ and $B = \\{b_{15}, b_{14}, b_{13}, \\ldots, b_{0} \\}$. <br >\n",
    "\n",
    "We can flip one bit $a_i$ in $A$ to get another bitstring $A'$, such that the difference of $A$ and $A'$ is only one bit. We define the above transformation to be $A \\to A'$. <br >\n",
    "\n",
    "\n",
    "We call two bitstrings $A$ and $B$ to be **equivalent** ($A \\sim B$) if there exists a sequence $A \\to C_1 \\to C_2 \\to \\cdots \\to C_n \\to B$, where $\\forall i, C_i$ belongs to the dataset. \n",
    "\n",
    "It can be seen that equivalence is both __commutative__ ($A \\sim B \\iff B \\sim A$) as well as __transitive__ ($A \\sim B, B \\sim C \\implies A \\sim C$). <br >\n",
    "\n",
    "We can say that the elements in the above sequence $\\{ A, C_1, \\ldots, C_n, B\\}$ form an equivalence class. Given a new bitstring $X$, we can see that if $X \\sim C_i$, $1 \\le i \\le n$, then $X$ will be added to the above equivalence class, and by the transitive property of equivalence relations, $X \\sim A$, and $X \\sim B$.\n",
    "\n",
    "### Example\n",
    "\n",
    "Let's say we have 4 bitstrings, each of them is 4 bits long. They are $0000, 0010, 0110, 1100$, respectively.<br >\n",
    "\n",
    "We can say $0000 \\sim 0110$ because $0000 \\to 0010 \\to 0110$. <br >\n",
    "\n",
    "However, $0000 \\nsim 1100$. There may be sequences like $0000 \\to 1000 \\to 1100$ or $0000 \\to 0100 \\to 1100$, but neither $1000$ nor $0100$ is in our dataset. <br >\n",
    "\n",
    "Ultimately, $\\{0000, 0010, 0110\\}$ form an equivalence class, whereas $\\{1100\\}$ is the other. As a result, there are two classes."
   ]
  },
  {
   "cell_type": "markdown",
   "metadata": {},
   "source": [
    "## Exercise 1 - General Data Preprocessing (10 points)\n",
    "\n",
    "Our dataset needs cleaning before building any models. Some of the cleaning tasks are common in general, but depends on what kind of models we are building, sometimes we have to do additional processing. These additional tasks will be mentioned in each of the remaining two exercises later.\n",
    "\n",
    "Note that **we will be using this processed data from exercise 1 in each of the remaining two exercises**.\n",
    "\n",
    "For convenience, here are the attributes that we would treat them as **categorical attributes**: `day`, `quarter`, `department`, and `team`. \n",
    "\n",
    " - Drop the column `date`.\n",
    " - For each of the categorical attributes, **print out** all the unique elements.\n",
    " - For each of the categorical attributes, remap the duplicated items, if you find there are typos or spaces among the duplicated items.\n",
    "     - For example, \"a\" and \"a \" should be the same, so we need to update \"a \" to be \"a\".\n",
    "     - Another example, \"apple\" and \"appel\" should be the same, so you should update \"appel\" to be \"apple\".\n",
    "     \n",
    "\n",
    " - Create another column named `satisfied` that records the productivity performance. The behavior defined as follows. **This is the dependent variable we'd like to classify in this assignment.**\n",
    "     - Return True or 1 if `actual_productivity` is equal to or greater than `targeted_productivity`. Otherwise, return False or 0, which means the team fails to meet the expected performance.\n",
    " - Drop the columns `actual_productivity` and `targeted_productivity`.\n",
    "\n",
    "\n",
    " - Find and **print out** which columns/attributes that have empty vaules, e.g., NA, NaN, null, None.\n",
    " - Fill the empty values with 0."
   ]
  },
  {
   "cell_type": "code",
   "execution_count": 1,
   "metadata": {},
   "outputs": [
    {
     "name": "stdout",
     "output_type": "stream",
     "text": [
      "day: ['Thursday' 'Saturday' 'Sunday' 'Monday' 'Tuesday' 'Wednesday']\n",
      "quarter: ['Quarter1' 'Quarter2' 'Quarter3' 'Quarter4' 'Quarter5']\n",
      "department: ['sweing' 'finishing ' 'finishing']\n",
      "team: [ 8  1 11 12  6  7  2  3  9 10  5  4]\n",
      "Index(['wip'], dtype='object')\n",
      "    quarter  department       day  team    smv     wip  over_time  incentive  \\\n",
      "0  Quarter1      sweing  Thursday     8  26.16  1108.0       7080         98   \n",
      "1  Quarter1  finishing   Thursday     1   3.94     0.0        960          0   \n",
      "2  Quarter1      sweing  Thursday    11  11.41   968.0       3660         50   \n",
      "3  Quarter1      sweing  Thursday    12  11.41   968.0       3660         50   \n",
      "4  Quarter1      sweing  Thursday     6  25.90  1170.0       1920         50   \n",
      "\n",
      "   idle_time  idle_men  no_of_style_change  no_of_workers  satisfied  \n",
      "0        0.0         0                   0           59.0       True  \n",
      "1        0.0         0                   0            8.0       True  \n",
      "2        0.0         0                   0           30.5       True  \n",
      "3        0.0         0                   0           30.5       True  \n",
      "4        0.0         0                   0           56.0       True  \n"
     ]
    }
   ],
   "source": [
    "import pandas as pd\n",
    "import numpy as np\n",
    "\n",
    "# Load dataset\n",
    "df_garment = pd.read_csv('garments_worker_productivity.csv')\n",
    "\n",
    "# Drop 'date' column\n",
    "df_garment = df_garment.drop(columns=['date'])\n",
    "\n",
    "# Print unique elements of categorical attributes\n",
    "categorical_attributes = ['day', 'quarter', 'department', 'team']\n",
    "for cat in categorical_attributes:\n",
    "    print(f\"{cat}: {df_garment[cat].unique()}\")\n",
    "\n",
    "# Remap duplicated items in categorical attributes\n",
    "# Example: df_garment['department'] = df_garment['department'].str.strip().replace({\"appel\": \"apple\"})\n",
    "# Add similar code for other attributes if needed\n",
    "\n",
    "# Create 'satisfied' column\n",
    "df_garment['satisfied'] = df_garment['actual_productivity'] >= df_garment['targeted_productivity']\n",
    "\n",
    "# Drop 'actual_productivity' and 'targeted_productivity'\n",
    "df_garment = df_garment.drop(columns=['actual_productivity', 'targeted_productivity'])\n",
    "\n",
    "# Find and fill empty values\n",
    "print(df_garment.columns[df_garment.isna().any()])\n",
    "df_garment = df_garment.fillna(0)\n",
    "\n",
    "print(df_garment.head(5))"
   ]
  },
  {
   "cell_type": "markdown",
   "metadata": {},
   "source": [
    "## Exercise 2 - Naïve Bayes Classifier (25 points in total)\n",
    "\n",
    "### Exercise 2.1 - Additional Data Preprocessing (5 points)\n",
    "\n",
    "To build a Naïve Bayes Classifier, we need to further encode our categorical variables.\n",
    "\n",
    " - For each of the **categorical attribtues**, encode the set of categories to be **0 ~ (n_classes - 1)**.\n",
    "     - For example, \\[\"paris\", \"paris\", \"tokyo\", \"amsterdam\"\\] should be encoded as \\[1, 1, 2, 0\\].\n",
    "     - Note that the order does not really matter, i.e., \\[0, 0, 1, 2\\] also works. But you have to start with 0 in your encodings.\n",
    "     - You can find information about this encoding in the discussion materials.\n",
    "\n",
    "\n",
    " - Split the data into training and testing set with the ratio of 80:20."
   ]
  },
  {
   "cell_type": "code",
   "execution_count": 2,
   "metadata": {},
   "outputs": [
    {
     "name": "stdout",
     "output_type": "stream",
     "text": [
      "      quarter  department  day  team    smv     wip  over_time  incentive  \\\n",
      "0         0.0         2.0  3.0   7.0  26.16  1108.0       7080         98   \n",
      "1         0.0         1.0  3.0   0.0   3.94     0.0        960          0   \n",
      "2         0.0         2.0  3.0  10.0  11.41   968.0       3660         50   \n",
      "3         0.0         2.0  3.0  11.0  11.41   968.0       3660         50   \n",
      "4         0.0         2.0  3.0   5.0  25.90  1170.0       1920         50   \n",
      "...       ...         ...  ...   ...    ...     ...        ...        ...   \n",
      "1192      1.0         0.0  5.0   9.0   2.90     0.0        960          0   \n",
      "1193      1.0         0.0  5.0   7.0   3.90     0.0        960          0   \n",
      "1194      1.0         0.0  5.0   6.0   3.90     0.0        960          0   \n",
      "1195      1.0         0.0  5.0   8.0   2.90     0.0       1800          0   \n",
      "1196      1.0         0.0  5.0   5.0   2.90     0.0        720          0   \n",
      "\n",
      "      idle_time  idle_men  no_of_style_change  no_of_workers  satisfied  \n",
      "0           0.0         0                   0           59.0       True  \n",
      "1           0.0         0                   0            8.0       True  \n",
      "2           0.0         0                   0           30.5       True  \n",
      "3           0.0         0                   0           30.5       True  \n",
      "4           0.0         0                   0           56.0       True  \n",
      "...         ...       ...                 ...            ...        ...  \n",
      "1192        0.0         0                   0            8.0      False  \n",
      "1193        0.0         0                   0            8.0      False  \n",
      "1194        0.0         0                   0            8.0      False  \n",
      "1195        0.0         0                   0           15.0      False  \n",
      "1196        0.0         0                   0            6.0      False  \n",
      "\n",
      "[1197 rows x 13 columns]\n"
     ]
    }
   ],
   "source": [
    "from sklearn.model_selection import train_test_split\n",
    "from sklearn.preprocessing import OrdinalEncoder\n",
    "\n",
    "df_nb = df_garment.copy()\n",
    "\n",
    "# Encode categorical attributes\n",
    "encoder = OrdinalEncoder()\n",
    "df_nb[categorical_attributes] = encoder.fit_transform(df_nb[categorical_attributes])\n",
    "\n",
    "# Split data into training and testing set\n",
    "nb_train, nb_test = train_test_split(df_nb, test_size=0.2)\n",
    "X_nb_train, y_nb_train = nb_train.drop(columns=['satisfied']), nb_train['satisfied']\n",
    "X_nb_test, y_nb_test = nb_test.drop(columns=['satisfied']), nb_test['satisfied']\n",
    "\n",
    "print(df_nb)"
   ]
  },
  {
   "cell_type": "markdown",
   "metadata": {},
   "source": [
    "### Exercise 2.2 - Naïve Bayes Classifier for Categorical Attributes (10 points)\n",
    "\n",
    "Use the categorical attributes **only**, please build a Categorical Naïve Bayes classifier that predicts the column `satisfied`. <br >\n",
    "Report the **testing result** using `classification_report`."
   ]
  },
  {
   "cell_type": "code",
   "execution_count": 3,
   "metadata": {},
   "outputs": [
    {
     "name": "stdout",
     "output_type": "stream",
     "text": [
      "Categorical Naive Bayes Classifier Report:\n",
      "              precision    recall  f1-score   support\n",
      "\n",
      "       False       0.58      0.21      0.31        67\n",
      "        True       0.75      0.94      0.84       173\n",
      "\n",
      "    accuracy                           0.74       240\n",
      "   macro avg       0.67      0.58      0.57       240\n",
      "weighted avg       0.71      0.74      0.69       240\n",
      "\n"
     ]
    },
    {
     "name": "stderr",
     "output_type": "stream",
     "text": [
      "C:\\Users\\manyu\\AppData\\Local\\Packages\\PythonSoftwareFoundation.Python.3.10_qbz5n2kfra8p0\\LocalCache\\local-packages\\Python310\\site-packages\\sklearn\\utils\\validation.py:623: FutureWarning: is_sparse is deprecated and will be removed in a future version. Check `isinstance(dtype, pd.SparseDtype)` instead.\n",
      "  if not hasattr(array, \"sparse\") and array.dtypes.apply(is_sparse).any():\n",
      "C:\\Users\\manyu\\AppData\\Local\\Packages\\PythonSoftwareFoundation.Python.3.10_qbz5n2kfra8p0\\LocalCache\\local-packages\\Python310\\site-packages\\sklearn\\utils\\validation.py:623: FutureWarning: is_sparse is deprecated and will be removed in a future version. Check `isinstance(dtype, pd.SparseDtype)` instead.\n",
      "  if not hasattr(array, \"sparse\") and array.dtypes.apply(is_sparse).any():\n"
     ]
    }
   ],
   "source": [
    "from sklearn.naive_bayes import GaussianNB, CategoricalNB\n",
    "from sklearn.metrics import classification_report\n",
    "from sklearn.preprocessing import StandardScaler\n",
    "\n",
    "# For Categorical Attributes\n",
    "clf_cat = CategoricalNB()\n",
    "clf_cat.fit(X_nb_train[categorical_attributes], y_nb_train)\n",
    "print(\"Categorical Naive Bayes Classifier Report:\")\n",
    "print(classification_report(y_nb_test, clf_cat.predict(X_nb_test[categorical_attributes])))"
   ]
  },
  {
   "cell_type": "markdown",
   "metadata": {},
   "source": [
    "### Exercise 2.3 - Naïve Bayes Classifier for Numerical Attributes (10 points)\n",
    "\n",
    "Use the numerical attributes **only**, please build a Gaussian Naïve Bayes classifier that predicts the column `satisfied`. <br >\n",
    "Report the **testing result** using `classification_report`.\n",
    "\n",
    "**Remember to scale your data. The scaling method is up to you.**"
   ]
  },
  {
   "cell_type": "code",
   "execution_count": 4,
   "metadata": {},
   "outputs": [
    {
     "name": "stdout",
     "output_type": "stream",
     "text": [
      "Gaussian Naive Bayes Classifier Report:\n",
      "              precision    recall  f1-score   support\n",
      "\n",
      "       False       1.00      0.03      0.06        67\n",
      "        True       0.73      1.00      0.84       173\n",
      "\n",
      "    accuracy                           0.73       240\n",
      "   macro avg       0.86      0.51      0.45       240\n",
      "weighted avg       0.80      0.73      0.62       240\n",
      "\n"
     ]
    },
    {
     "name": "stderr",
     "output_type": "stream",
     "text": [
      "C:\\Users\\manyu\\AppData\\Local\\Packages\\PythonSoftwareFoundation.Python.3.10_qbz5n2kfra8p0\\LocalCache\\local-packages\\Python310\\site-packages\\sklearn\\utils\\validation.py:623: FutureWarning: is_sparse is deprecated and will be removed in a future version. Check `isinstance(dtype, pd.SparseDtype)` instead.\n",
      "  if not hasattr(array, \"sparse\") and array.dtypes.apply(is_sparse).any():\n",
      "C:\\Users\\manyu\\AppData\\Local\\Packages\\PythonSoftwareFoundation.Python.3.10_qbz5n2kfra8p0\\LocalCache\\local-packages\\Python310\\site-packages\\sklearn\\utils\\validation.py:623: FutureWarning: is_sparse is deprecated and will be removed in a future version. Check `isinstance(dtype, pd.SparseDtype)` instead.\n",
      "  if not hasattr(array, \"sparse\") and array.dtypes.apply(is_sparse).any():\n",
      "C:\\Users\\manyu\\AppData\\Local\\Packages\\PythonSoftwareFoundation.Python.3.10_qbz5n2kfra8p0\\LocalCache\\local-packages\\Python310\\site-packages\\sklearn\\utils\\validation.py:623: FutureWarning: is_sparse is deprecated and will be removed in a future version. Check `isinstance(dtype, pd.SparseDtype)` instead.\n",
      "  if not hasattr(array, \"sparse\") and array.dtypes.apply(is_sparse).any():\n"
     ]
    }
   ],
   "source": [
    "# For Numerical Attributes\n",
    "numerical_attributes = list(set(df_garment.columns) - set(categorical_attributes) - {'satisfied'})\n",
    "scaler = StandardScaler()\n",
    "X_nb_train_scaled = scaler.fit_transform(X_nb_train[numerical_attributes])\n",
    "X_nb_test_scaled = scaler.transform(X_nb_test[numerical_attributes])\n",
    "\n",
    "clf_num = GaussianNB()\n",
    "clf_num.fit(X_nb_train_scaled, y_nb_train)\n",
    "print(\"Gaussian Naive Bayes Classifier Report:\")\n",
    "print(classification_report(y_nb_test, clf_num.predict(X_nb_test_scaled)))"
   ]
  },
  {
   "cell_type": "markdown",
   "metadata": {},
   "source": [
    "## Exercies 3 - SVM Classifier (30 points in total)\n",
    "\n",
    "### Exercise 3.1 - Additional Data Preprocessing (5 points)\n",
    "\n",
    "To build a SVM Classifier, we need a different encoding for our categorical variables.\n",
    "\n",
    " - For each of the **categorical attribtues**, encode them with **one-hot encoding**.\n",
    "     - You can find information about this encoding in the discussion materials.\n",
    "\n",
    "\n",
    " - Split the data into training and testing set with the ratio of 80:20."
   ]
  },
  {
   "cell_type": "code",
   "execution_count": 5,
   "metadata": {},
   "outputs": [],
   "source": [
    "from sklearn.preprocessing import OneHotEncoder\n",
    "\n",
    "df_svm = df_garment.copy()\n",
    "\n",
    "# One-hot encode categorical attributes\n",
    "df_svm = pd.get_dummies(df_svm, columns=categorical_attributes)\n",
    "\n",
    "# Split data into training and testing set\n",
    "svm_train, svm_test = train_test_split(df_svm, test_size=0.2)\n",
    "X_svm_train, y_svm_train = svm_train.drop(columns=['satisfied']), svm_train['satisfied']\n",
    "X_svm_test, y_svm_test = svm_test.drop(columns=['satisfied']), svm_test['satisfied']"
   ]
  },
  {
   "cell_type": "code",
   "execution_count": 6,
   "metadata": {},
   "outputs": [
    {
     "name": "stdout",
     "output_type": "stream",
     "text": [
      "        smv     wip  over_time  incentive  idle_time  idle_men  \\\n",
      "0     26.16  1108.0       7080         98        0.0         0   \n",
      "1      3.94     0.0        960          0        0.0         0   \n",
      "2     11.41   968.0       3660         50        0.0         0   \n",
      "3     11.41   968.0       3660         50        0.0         0   \n",
      "4     25.90  1170.0       1920         50        0.0         0   \n",
      "...     ...     ...        ...        ...        ...       ...   \n",
      "1192   2.90     0.0        960          0        0.0         0   \n",
      "1193   3.90     0.0        960          0        0.0         0   \n",
      "1194   3.90     0.0        960          0        0.0         0   \n",
      "1195   2.90     0.0       1800          0        0.0         0   \n",
      "1196   2.90     0.0        720          0        0.0         0   \n",
      "\n",
      "      no_of_style_change  no_of_workers  satisfied  day_Monday  ...  team_3  \\\n",
      "0                      0           59.0       True       False  ...   False   \n",
      "1                      0            8.0       True       False  ...   False   \n",
      "2                      0           30.5       True       False  ...   False   \n",
      "3                      0           30.5       True       False  ...   False   \n",
      "4                      0           56.0       True       False  ...   False   \n",
      "...                  ...            ...        ...         ...  ...     ...   \n",
      "1192                   0            8.0      False       False  ...   False   \n",
      "1193                   0            8.0      False       False  ...   False   \n",
      "1194                   0            8.0      False       False  ...   False   \n",
      "1195                   0           15.0      False       False  ...   False   \n",
      "1196                   0            6.0      False       False  ...   False   \n",
      "\n",
      "      team_4  team_5  team_6  team_7  team_8  team_9  team_10  team_11  \\\n",
      "0      False   False   False   False    True   False    False    False   \n",
      "1      False   False   False   False   False   False    False    False   \n",
      "2      False   False   False   False   False   False    False     True   \n",
      "3      False   False   False   False   False   False    False    False   \n",
      "4      False   False    True   False   False   False    False    False   \n",
      "...      ...     ...     ...     ...     ...     ...      ...      ...   \n",
      "1192   False   False   False   False   False   False     True    False   \n",
      "1193   False   False   False   False    True   False    False    False   \n",
      "1194   False   False   False    True   False   False    False    False   \n",
      "1195   False   False   False   False   False    True    False    False   \n",
      "1196   False   False    True   False   False   False    False    False   \n",
      "\n",
      "      team_12  \n",
      "0       False  \n",
      "1       False  \n",
      "2       False  \n",
      "3        True  \n",
      "4       False  \n",
      "...       ...  \n",
      "1192    False  \n",
      "1193    False  \n",
      "1194    False  \n",
      "1195    False  \n",
      "1196    False  \n",
      "\n",
      "[1197 rows x 35 columns]\n"
     ]
    }
   ],
   "source": [
    "print(df_svm)"
   ]
  },
  {
   "cell_type": "markdown",
   "metadata": {},
   "source": [
    "### Exercise 3.2 - SVM with Different Kernels (15 points)\n",
    "\n",
    "Using all the attributes we have, please build a SVM that predicts the column `satisfied`. <br >\n",
    "Specifically, please \n",
    " - Build one SVM with **linear kernel**.\n",
    " - Build another SVM but with **rbf kernel**.\n",
    " - Report the **testing results** of **both models** using `classification report`.\n",
    "\n",
    "The kernel is the only setting requirement. <br >\n",
    "Other hyperparameter tuning is not required. But make sure they are the same in these two SVMs if you'd like to tune the model. In other words, the only difference between the two SVMs should be the kernel setting.\n",
    "\n",
    "**Remember to scale your data. The scaling method is up to you.**"
   ]
  },
  {
   "cell_type": "code",
   "execution_count": 7,
   "metadata": {},
   "outputs": [
    {
     "name": "stdout",
     "output_type": "stream",
     "text": [
      "SVM with Linear Kernel Report:\n",
      "              precision    recall  f1-score   support\n",
      "\n",
      "       False       0.83      0.07      0.13        69\n",
      "        True       0.73      0.99      0.84       171\n",
      "\n",
      "    accuracy                           0.73       240\n",
      "   macro avg       0.78      0.53      0.49       240\n",
      "weighted avg       0.76      0.73      0.64       240\n",
      "\n",
      "SVM with RBF Kernel Report:\n",
      "              precision    recall  f1-score   support\n",
      "\n",
      "       False       0.76      0.36      0.49        69\n",
      "        True       0.79      0.95      0.86       171\n",
      "\n",
      "    accuracy                           0.78       240\n",
      "   macro avg       0.77      0.66      0.68       240\n",
      "weighted avg       0.78      0.78      0.76       240\n",
      "\n"
     ]
    },
    {
     "name": "stderr",
     "output_type": "stream",
     "text": [
      "C:\\Users\\manyu\\AppData\\Local\\Packages\\PythonSoftwareFoundation.Python.3.10_qbz5n2kfra8p0\\LocalCache\\local-packages\\Python310\\site-packages\\sklearn\\utils\\validation.py:623: FutureWarning: is_sparse is deprecated and will be removed in a future version. Check `isinstance(dtype, pd.SparseDtype)` instead.\n",
      "  if not hasattr(array, \"sparse\") and array.dtypes.apply(is_sparse).any():\n",
      "C:\\Users\\manyu\\AppData\\Local\\Packages\\PythonSoftwareFoundation.Python.3.10_qbz5n2kfra8p0\\LocalCache\\local-packages\\Python310\\site-packages\\sklearn\\utils\\validation.py:623: FutureWarning: is_sparse is deprecated and will be removed in a future version. Check `isinstance(dtype, pd.SparseDtype)` instead.\n",
      "  if not hasattr(array, \"sparse\") and array.dtypes.apply(is_sparse).any():\n",
      "C:\\Users\\manyu\\AppData\\Local\\Packages\\PythonSoftwareFoundation.Python.3.10_qbz5n2kfra8p0\\LocalCache\\local-packages\\Python310\\site-packages\\sklearn\\utils\\validation.py:623: FutureWarning: is_sparse is deprecated and will be removed in a future version. Check `isinstance(dtype, pd.SparseDtype)` instead.\n",
      "  if not hasattr(array, \"sparse\") and array.dtypes.apply(is_sparse).any():\n"
     ]
    }
   ],
   "source": [
    "from sklearn.svm import SVC\n",
    "\n",
    "# Scale data\n",
    "scaler = StandardScaler()\n",
    "X_svm_train_scaled = scaler.fit_transform(X_svm_train)\n",
    "X_svm_test_scaled = scaler.transform(X_svm_test)\n",
    "\n",
    "# SVM with Linear Kernel\n",
    "svc_linear = SVC(kernel='linear')\n",
    "svc_linear.fit(X_svm_train_scaled, y_svm_train)\n",
    "print(\"SVM with Linear Kernel Report:\")\n",
    "print(classification_report(y_svm_test, svc_linear.predict(X_svm_test_scaled)))\n",
    "\n",
    "# SVM with RBF Kernel\n",
    "svc_rbf = SVC(kernel='rbf')\n",
    "svc_rbf.fit(X_svm_train_scaled, y_svm_train)\n",
    "print(\"SVM with RBF Kernel Report:\")\n",
    "print(classification_report(y_svm_test, svc_rbf.predict(X_svm_test_scaled)))"
   ]
  },
  {
   "cell_type": "markdown",
   "metadata": {},
   "source": [
    "### Exercise 3.3 - SVM with Over-sampling (10 points)\n",
    " - For the column `satisfied` in our **training set**, please **print out** the frequency of each class. \n",
    " - Oversample the **training data**. \n",
    " - For the column `satisfied` in the oversampled data, **print out** the frequency of each class  again.\n",
    " - Re-build the 2 SVMs with the same setting you have in Exercise 3.2, but **use oversampled training data** instead.\n",
    "     - Do not forget to scale the data first. As always, the scaling method is up to you.\n",
    " - Report the **testing result** with `classification_report`.\n",
    "\n",
    "You can use ANY methods listed on [here](https://imbalanced-learn.org/stable/references/over_sampling.html#) such as RandomOverSampler or SMOTE. <br > \n",
    "You are definitely welcomed to build your own oversampler. <br >\n",
    "\n",
    "Note that you do not have to over-sample your testing data."
   ]
  },
  {
   "cell_type": "code",
   "execution_count": 8,
   "metadata": {},
   "outputs": [
    {
     "name": "stdout",
     "output_type": "stream",
     "text": [
      "Class distribution before oversampling: satisfied\n",
      "True     704\n",
      "False    253\n",
      "Name: count, dtype: int64\n",
      "Class distribution after oversampling: satisfied\n",
      "True     704\n",
      "False    704\n",
      "Name: count, dtype: int64\n",
      "SVM with Linear Kernel (Oversampled) Report:\n",
      "              precision    recall  f1-score   support\n",
      "\n",
      "       False       0.44      0.65      0.52        69\n",
      "        True       0.82      0.66      0.73       171\n",
      "\n",
      "    accuracy                           0.66       240\n",
      "   macro avg       0.63      0.66      0.63       240\n",
      "weighted avg       0.71      0.66      0.67       240\n",
      "\n",
      "SVM with RBF Kernel (Oversampled) Report:\n",
      "              precision    recall  f1-score   support\n",
      "\n",
      "       False       0.54      0.61      0.57        69\n",
      "        True       0.83      0.79      0.81       171\n",
      "\n",
      "    accuracy                           0.74       240\n",
      "   macro avg       0.69      0.70      0.69       240\n",
      "weighted avg       0.75      0.74      0.74       240\n",
      "\n"
     ]
    }
   ],
   "source": [
    "from imblearn.over_sampling import RandomOverSampler\n",
    "\n",
    "# Check class distribution\n",
    "print(\"Class distribution before oversampling:\", y_svm_train.value_counts())\n",
    "\n",
    "# Oversample training data\n",
    "ros = RandomOverSampler()\n",
    "X_os, y_os = ros.fit_resample(X_svm_train_scaled, y_svm_train)\n",
    "print(\"Class distribution after oversampling:\", y_os.value_counts())\n",
    "\n",
    "# Rebuild SVMs with oversampled data\n",
    "svc_linear.fit(X_os, y_os)\n",
    "print(\"SVM with Linear Kernel (Oversampled) Report:\")\n",
    "print(classification_report(y_svm_test, svc_linear.predict(X_svm_test_scaled)))\n",
    "\n",
    "svc_rbf.fit(X_os, y_os)\n",
    "print(\"SVM with RBF Kernel (Oversampled) Report:\")\n",
    "print(classification_report(y_svm_test, svc_rbf.predict(X_svm_test_scaled)))"
   ]
  },
  {
   "cell_type": "markdown",
   "metadata": {},
   "source": [
    "## Exercise 4 - K-Means Clustering (15 points in total)\n",
    "Let's see how k-means behave differently from agglomerative clustering.\n",
    "\n",
    "### Exercise 4.1 - K-Means Clustering for Equivalence Classes (10 points)\n",
    " - Cluster the dataset with k-means, but with the number 60.\n",
    " - Show the frequency(number of members) of each cluster. Again, you are encouraged to create a bar chart, but printing the numbers is also fine.\n"
   ]
  },
  {
   "cell_type": "code",
   "execution_count": 9,
   "metadata": {},
   "outputs": [
    {
     "name": "stderr",
     "output_type": "stream",
     "text": [
      "C:\\Users\\manyu\\AppData\\Local\\Packages\\PythonSoftwareFoundation.Python.3.10_qbz5n2kfra8p0\\LocalCache\\local-packages\\Python310\\site-packages\\sklearn\\utils\\validation.py:623: FutureWarning: is_sparse is deprecated and will be removed in a future version. Check `isinstance(dtype, pd.SparseDtype)` instead.\n",
      "  if not hasattr(array, \"sparse\") and array.dtypes.apply(is_sparse).any():\n"
     ]
    },
    {
     "name": "stdout",
     "output_type": "stream",
     "text": [
      "16    77\n",
      "21    67\n",
      "25    50\n",
      "28    48\n",
      "5     45\n",
      "34    44\n",
      "3     41\n",
      "44    39\n",
      "50    35\n",
      "20    35\n",
      "19    28\n",
      "1     28\n",
      "12    24\n",
      "45    24\n",
      "0     24\n",
      "7     23\n",
      "14    22\n",
      "39    20\n",
      "4     20\n",
      "9     19\n",
      "52    18\n",
      "27    17\n",
      "41    17\n",
      "32    17\n",
      "15    16\n",
      "33    16\n",
      "56    15\n",
      "47    15\n",
      "23    15\n",
      "49    15\n",
      "53    15\n",
      "26    14\n",
      "13    14\n",
      "40    14\n",
      "35    13\n",
      "8     13\n",
      "48    13\n",
      "30    12\n",
      "43    12\n",
      "37    12\n",
      "31    12\n",
      "46    11\n",
      "22    11\n",
      "6     11\n",
      "57    11\n",
      "18    11\n",
      "55    11\n",
      "11    11\n",
      "36    11\n",
      "59    10\n",
      "51    10\n",
      "42    10\n",
      "38    10\n",
      "17     9\n",
      "58     9\n",
      "54     9\n",
      "2      9\n",
      "24     9\n",
      "10     7\n",
      "29     2\n",
      "Name: count, dtype: int64\n"
     ]
    }
   ],
   "source": [
    "from sklearn.cluster import KMeans\n",
    "\n",
    "# Load bitstrings dataset\n",
    "df_bitstrings = pd.read_csv('bitstrings.csv')\n",
    "\n",
    "# K-Means Clustering\n",
    "kmeans = KMeans(n_clusters=60)\n",
    "kmeans_result = kmeans.fit(df_bitstrings)\n",
    "\n",
    "# Cluster distribution\n",
    "kmeans_distribution = pd.Series(kmeans_result.labels_).value_counts()\n",
    "print(kmeans_distribution)"
   ]
  },
  {
   "cell_type": "markdown",
   "metadata": {},
   "source": [
    "### Exercise 4.2 - Difference between Agglomerative Clustering and K-Means Clustering (5 points)\n",
    "\n",
    "Explain\n",
    "- What are the difference Agglomerative Clustering and K-Means Clustering\n",
    "- Why there is such a difference"
   ]
  },
  {
   "cell_type": "markdown",
   "metadata": {},
   "source": [
    "Agglomerative Clustering and K-Means Clustering are two methods for grouping similar items. Agglomerative Clustering is like building a family tree for your data points, starting with each point as an individual and then gradually linking them into larger families based on similarity. You don't have to decide how many families (clusters) you want in advance. On the other hand, K-Means Clustering is like organizing people into a fixed number of teams from the start. Each team has a leader (centroid), and people join the team with the closest leader. Over time, leaders adjust their positions until everyone is sorted into the best teams. K-Means is faster and works well when your data naturally forms round groups (like circles)."
   ]
  },
  {
   "cell_type": "markdown",
   "metadata": {},
   "source": [
    "## Exercise 5 - Principal Component Analysis (20 points in total)\n",
    "\n",
    "We can visualize how the bitstrings are distributed using principal component analysis.\n",
    "\n",
    "### Exercise 5.1 - Generate 2 Clusters (5 points)\n",
    "\n",
    " - Re-do the k-means clustering on our dataset again, but this time we only consider ```k=2```.\n",
    " - Show the frequency(number of members) of each cluster."
   ]
  },
  {
   "cell_type": "code",
   "execution_count": 10,
   "metadata": {},
   "outputs": [
    {
     "name": "stdout",
     "output_type": "stream",
     "text": [
      "0    784\n",
      "1    416\n",
      "Name: count, dtype: int64\n"
     ]
    },
    {
     "name": "stderr",
     "output_type": "stream",
     "text": [
      "C:\\Users\\manyu\\AppData\\Local\\Packages\\PythonSoftwareFoundation.Python.3.10_qbz5n2kfra8p0\\LocalCache\\local-packages\\Python310\\site-packages\\sklearn\\utils\\validation.py:623: FutureWarning: is_sparse is deprecated and will be removed in a future version. Check `isinstance(dtype, pd.SparseDtype)` instead.\n",
      "  if not hasattr(array, \"sparse\") and array.dtypes.apply(is_sparse).any():\n"
     ]
    }
   ],
   "source": [
    "kmeans_2 = KMeans(n_clusters=2)\n",
    "result_2 = kmeans_2.fit(df_bitstrings)\n",
    "print(pd.Series(result_2.labels_).value_counts())"
   ]
  },
  {
   "cell_type": "markdown",
   "metadata": {},
   "source": [
    "### Exercise 5.2 - PCA for Feature Extraction (15 points)\n",
    "\n",
    " - Retrieve the projected dataset with PCA, using ```n_components=2```.\n",
    " - Generate a scatter plot to visualize the projected points, where they should be colored differently based on the assigned cluster in Exercise 3.1.\n",
    " - In the first principal component, **print out** the weights of all features.\n",
    " - Report which feature has the **highest positive** weight in the first principal component."
   ]
  },
  {
   "cell_type": "code",
   "execution_count": 11,
   "metadata": {},
   "outputs": [
    {
     "name": "stderr",
     "output_type": "stream",
     "text": [
      "C:\\Users\\manyu\\AppData\\Local\\Packages\\PythonSoftwareFoundation.Python.3.10_qbz5n2kfra8p0\\LocalCache\\local-packages\\Python310\\site-packages\\sklearn\\utils\\validation.py:623: FutureWarning: is_sparse is deprecated and will be removed in a future version. Check `isinstance(dtype, pd.SparseDtype)` instead.\n",
      "  if not hasattr(array, \"sparse\") and array.dtypes.apply(is_sparse).any():\n",
      "C:\\Users\\manyu\\AppData\\Local\\Packages\\PythonSoftwareFoundation.Python.3.10_qbz5n2kfra8p0\\LocalCache\\local-packages\\Python310\\site-packages\\sklearn\\utils\\validation.py:623: FutureWarning: is_sparse is deprecated and will be removed in a future version. Check `isinstance(dtype, pd.SparseDtype)` instead.\n",
      "  if not hasattr(array, \"sparse\") and array.dtypes.apply(is_sparse).any():\n"
     ]
    },
    {
     "data": {
      "image/png": "[encoded data removed]",
      "text/plain": [
       "<Figure size 700x700 with 1 Axes>"
      ]
     },
     "metadata": {},
     "output_type": "display_data"
    },
    {
     "name": "stdout",
     "output_type": "stream",
     "text": [
      "Feature weights in the first principal component: [ 0.30892119 -0.29249548 -0.13562089  0.01092818 -0.00588426 -0.23728626\n",
      " -0.40525559 -0.40429542  0.35159104  0.27153022 -0.12015646 -0.03611032\n",
      " -0.23182279 -0.01977466 -0.0145021   0.38606446]\n",
      "The feature with the highest positive weight: b0\n"
     ]
    }
   ],
   "source": [
    "from sklearn.decomposition import PCA\n",
    "import matplotlib.pyplot as plt\n",
    "\n",
    "pca = PCA(n_components=2)\n",
    "X_scaled = StandardScaler().fit_transform(df_bitstrings)\n",
    "Z_pca = pca.fit_transform(X_scaled)\n",
    "\n",
    "# Scatter plot\n",
    "plt.figure(figsize=(7,7))\n",
    "plt.scatter(Z_pca[(result_2.labels_ == 0), 0], Z_pca[(result_2.labels_ == 0), 1], alpha=0.5, c='blue', label='Class 0')\n",
    "plt.scatter(Z_pca[(result_2.labels_ == 1), 0], Z_pca[(result_2.labels_ == 1), 1], alpha=0.5, c='orange', label='Class 1')\n",
    "plt.xlabel('PC1')\n",
    "plt.ylabel('PC2')\n",
    "plt.legend()\n",
    "plt.show()\n",
    "\n",
    "# Feature weights\n",
    "print(\"Feature weights in the first principal component:\", pca.components_[0])\n",
    "max_weight_feature = np.argmax(pca.components_[0])\n",
    "print(f\"The feature with the highest positive weight: {df_bitstrings.columns[max_weight_feature]}\")"
   ]
  },
  {
   "cell_type": "code",
   "execution_count": null,
   "metadata": {},
   "outputs": [],
   "source": []
  }
 ],
 "metadata": {
  "kernelspec": {
   "display_name": "base",
   "language": "python",
   "name": "python3"
  },
  "language_info": {
   "codemirror_mode": {
    "name": "ipython",
    "version": 3
   },
   "file_extension": ".py",
   "mimetype": "text/x-python",
   "name": "python",
   "nbconvert_exporter": "python",
   "pygments_lexer": "ipython3",
   "version": "3.10.11"
  }
 },
 "nbformat": 4,
 "nbformat_minor": 2
}
